{
 "cells": [
  {
   "cell_type": "code",
   "execution_count": 53,
   "metadata": {},
   "outputs": [],
   "source": [
    "import numpy as np\n",
    "import random \n",
    "\n",
    "from scripts import viterby\n",
    "\n",
    "\n",
    "def expirement(N = 1000, n = 1000, mode = True):\n",
    "    \n",
    "    if mode:\n",
    "        s = 0\n",
    "        for i in range(N):\n",
    "            d = distibution(6, 1000)/1000\n",
    "            trn = [[0.95, 0.05],\n",
    "                   [0.1, 0.9]]\n",
    "            symbols = [i+1 for i in range(6)]\n",
    "            dist = dict(zip(symbols,d))\n",
    "            ems = [dist,dist]\n",
    "            s+= test(trn, ems, n)\n",
    "        return s/N\n",
    "    \n",
    "    s = 0\n",
    "    for i in range(N):\n",
    "        trn = [[0.95, 0.05],\n",
    "                [0.1, 0.9]]\n",
    "        symbols = [i+1 for i in range(6)]\n",
    "        a = np.random.randint(1000, 100000)\n",
    "        d = [1/a, 1/a,1/a, 1/a,1/a, 1-5/a]\n",
    "        random.shuffle(d)\n",
    "        ems = [\n",
    "            {1:1/6,2:1/6,3:1/6,4:1/6,5:1/6,6:1/6},\n",
    "            dict(zip(symbols,d))]\n",
    "        s+= test(trn, ems, n)\n",
    "    return s/N\n",
    "\n",
    "def generate(trn, ems, n = 10000):\n",
    "    states = [np.random.randint(2)]\n",
    "    for i in range(1,n):\n",
    "        state = states[-1]\n",
    "        prob = trn[state][1]\n",
    "        states.append(np.random.binomial(1, prob, size=None))\n",
    "    symbols = []\n",
    "    all_symbols = [i+1 for i in range(len(ems[0]))]\n",
    "    for i in range(n):\n",
    "        symbol = np.random.choice(all_symbols,1,  ems[states[i]])\n",
    "        symbols.append(symbol[0])\n",
    "    \n",
    "    return states, symbols\n",
    "\n",
    "\n",
    "def test(trn, ems, n):\n",
    "    states, symbols = generate(trn, ems, n)\n",
    "    prediction = viterby(\n",
    "        observations=symbols, \n",
    "        init_prob=[1/2, 1/2],\n",
    "        transition_prob=trn,\n",
    "        emision_prob=ems\n",
    "    )\n",
    "    accuracy = (np.array(prediction)==np.array(states)).sum()/n\n",
    "    return accuracy\n",
    "\n",
    "def distibution(n, total):\n",
    "    \"\"\"Return a randomly chosen list of n positive integers summing to total.\n",
    "    Each such list is equally likely to occur.\"\"\"\n",
    "\n",
    "    dividers = sorted(random.sample(range(1, total), n - 1))\n",
    "    return np.array([a - b for a, b in zip(dividers + [total], [0] + dividers)])\n"
   ]
  },
  {
   "cell_type": "code",
   "execution_count": 107,
   "metadata": {},
   "outputs": [
    {
     "data": {
      "text/plain": [
       "0.6553180999999957"
      ]
     },
     "execution_count": 107,
     "metadata": {},
     "output_type": "execute_result"
    }
   ],
   "source": [
    "expirement(100000,100)"
   ]
  },
  {
   "cell_type": "code",
   "execution_count": 108,
   "metadata": {},
   "outputs": [
    {
     "name": "stdout",
     "output_type": "stream",
     "text": [
      "The history saving thread hit an unexpected error (OperationalError('database or disk is full')).History will not be written to the database.\n"
     ]
    },
    {
     "data": {
      "text/plain": [
       "0.6531375000000066"
      ]
     },
     "execution_count": 108,
     "metadata": {},
     "output_type": "execute_result"
    }
   ],
   "source": [
    "expirement(100000,100, False)"
   ]
  }
 ],
 "metadata": {
  "kernelspec": {
   "display_name": "base",
   "language": "python",
   "name": "python3"
  },
  "language_info": {
   "codemirror_mode": {
    "name": "ipython",
    "version": 3
   },
   "file_extension": ".py",
   "mimetype": "text/x-python",
   "name": "python",
   "nbconvert_exporter": "python",
   "pygments_lexer": "ipython3",
   "version": "3.9.13"
  },
  "orig_nbformat": 4
 },
 "nbformat": 4,
 "nbformat_minor": 2
}
